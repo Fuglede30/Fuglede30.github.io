{
 "cells": [
  {
   "cell_type": "code",
   "execution_count": 3,
   "id": "937a0789",
   "metadata": {},
   "outputs": [
    {
     "name": "stdout",
     "output_type": "stream",
     "text": [
      "Requirement already satisfied: calplot in c:\\users\\u437186\\appdata\\local\\anaconda3\\lib\\site-packages (0.1.7.5)\n",
      "Requirement already satisfied: matplotlib in c:\\users\\u437186\\appdata\\local\\anaconda3\\lib\\site-packages (from calplot) (3.8.4)\n",
      "Requirement already satisfied: numpy in c:\\users\\u437186\\appdata\\local\\anaconda3\\lib\\site-packages (from calplot) (1.26.4)\n",
      "Requirement already satisfied: pandas>=1 in c:\\users\\u437186\\appdata\\local\\anaconda3\\lib\\site-packages (from calplot) (2.2.2)\n",
      "Requirement already satisfied: python-dateutil>=2.8.2 in c:\\users\\u437186\\appdata\\local\\anaconda3\\lib\\site-packages (from pandas>=1->calplot) (2.9.0.post0)\n",
      "Requirement already satisfied: pytz>=2020.1 in c:\\users\\u437186\\appdata\\local\\anaconda3\\lib\\site-packages (from pandas>=1->calplot) (2024.1)\n",
      "Requirement already satisfied: tzdata>=2022.7 in c:\\users\\u437186\\appdata\\local\\anaconda3\\lib\\site-packages (from pandas>=1->calplot) (2023.3)\n",
      "Requirement already satisfied: contourpy>=1.0.1 in c:\\users\\u437186\\appdata\\local\\anaconda3\\lib\\site-packages (from matplotlib->calplot) (1.2.0)\n",
      "Requirement already satisfied: cycler>=0.10 in c:\\users\\u437186\\appdata\\local\\anaconda3\\lib\\site-packages (from matplotlib->calplot) (0.11.0)\n",
      "Requirement already satisfied: fonttools>=4.22.0 in c:\\users\\u437186\\appdata\\local\\anaconda3\\lib\\site-packages (from matplotlib->calplot) (4.51.0)\n",
      "Requirement already satisfied: kiwisolver>=1.3.1 in c:\\users\\u437186\\appdata\\local\\anaconda3\\lib\\site-packages (from matplotlib->calplot) (1.4.4)\n",
      "Requirement already satisfied: packaging>=20.0 in c:\\users\\u437186\\appdata\\local\\anaconda3\\lib\\site-packages (from matplotlib->calplot) (23.2)\n",
      "Requirement already satisfied: pillow>=8 in c:\\users\\u437186\\appdata\\local\\anaconda3\\lib\\site-packages (from matplotlib->calplot) (10.3.0)\n",
      "Requirement already satisfied: pyparsing>=2.3.1 in c:\\users\\u437186\\appdata\\local\\anaconda3\\lib\\site-packages (from matplotlib->calplot) (3.0.9)\n",
      "Requirement already satisfied: six>=1.5 in c:\\users\\u437186\\appdata\\local\\anaconda3\\lib\\site-packages (from python-dateutil>=2.8.2->pandas>=1->calplot) (1.16.0)\n",
      "Requirement already satisfied: folium in c:\\users\\u437186\\appdata\\local\\anaconda3\\lib\\site-packages (0.19.5)\n",
      "Requirement already satisfied: branca>=0.6.0 in c:\\users\\u437186\\appdata\\local\\anaconda3\\lib\\site-packages (from folium) (0.8.1)\n",
      "Requirement already satisfied: jinja2>=2.9 in c:\\users\\u437186\\appdata\\local\\anaconda3\\lib\\site-packages (from folium) (3.1.4)\n",
      "Requirement already satisfied: numpy in c:\\users\\u437186\\appdata\\local\\anaconda3\\lib\\site-packages (from folium) (1.26.4)\n",
      "Requirement already satisfied: requests in c:\\users\\u437186\\appdata\\local\\anaconda3\\lib\\site-packages (from folium) (2.32.2)\n",
      "Requirement already satisfied: xyzservices in c:\\users\\u437186\\appdata\\local\\anaconda3\\lib\\site-packages (from folium) (2022.9.0)\n",
      "Requirement already satisfied: MarkupSafe>=2.0 in c:\\users\\u437186\\appdata\\local\\anaconda3\\lib\\site-packages (from jinja2>=2.9->folium) (2.1.3)\n",
      "Requirement already satisfied: charset-normalizer<4,>=2 in c:\\users\\u437186\\appdata\\local\\anaconda3\\lib\\site-packages (from requests->folium) (2.0.4)\n",
      "Requirement already satisfied: idna<4,>=2.5 in c:\\users\\u437186\\appdata\\local\\anaconda3\\lib\\site-packages (from requests->folium) (2.10)\n",
      "Requirement already satisfied: urllib3<3,>=1.21.1 in c:\\users\\u437186\\appdata\\local\\anaconda3\\lib\\site-packages (from requests->folium) (2.2.2)\n",
      "Requirement already satisfied: certifi>=2017.4.17 in c:\\users\\u437186\\appdata\\local\\anaconda3\\lib\\site-packages (from requests->folium) (2024.8.30)\n"
     ]
    }
   ],
   "source": [
    "!pip install calplot\n",
    "!pip install folium"
   ]
  },
  {
   "cell_type": "code",
   "execution_count": 7,
   "id": "46161165",
   "metadata": {},
   "outputs": [],
   "source": [
    "import pandas as pd\n",
    "import numpy as np\n",
    "import matplotlib.pyplot as plt\n",
    "import seaborn as sns\n",
    "from scipy import stats\n",
    "import geopandas as gpd\n",
    "\n",
    "import statsmodels.api as sm\n",
    "import calplot\n",
    "import folium\n",
    "from folium.plugins import HeatMapWithTime"
   ]
  },
  {
   "cell_type": "code",
   "execution_count": 6,
   "id": "b16c6d7a",
   "metadata": {},
   "outputs": [
    {
     "name": "stderr",
     "output_type": "stream",
     "text": [
      "C:\\Users\\U437186\\AppData\\Local\\Temp\\ipykernel_24700\\1785735340.py:1: DtypeWarning: Columns (28) have mixed types. Specify dtype option on import or set low_memory=False.\n",
      "  df = pd.read_csv('us_congestion_2016_2022.csv')\n"
     ]
    }
   ],
   "source": [
    "df = pd.read_csv('us_congestion_2016_2022.csv')"
   ]
  },
  {
   "cell_type": "code",
   "execution_count": 27,
   "id": "6e155903",
   "metadata": {},
   "outputs": [],
   "source": [
    "cities = [\"New York\", \"Los Angeles\"]"
   ]
  },
  {
   "cell_type": "code",
   "execution_count": 43,
   "id": "24010955",
   "metadata": {},
   "outputs": [],
   "source": [
    "df_filt = df[df[\"City\"].isin(cities)]"
   ]
  },
  {
   "cell_type": "code",
   "execution_count": 29,
   "id": "293b3b1c",
   "metadata": {},
   "outputs": [],
   "source": [
    "df_filt.to_csv(r\"C:\\Users\\U437186\\OneDrive - Danfoss\\Desktop\\Mona\\DTU\\Social data\\Assignment 2\\Project B\\Data filtered city.csv\", index = False)"
   ]
  },
  {
   "cell_type": "markdown",
   "id": "b7e43ea3",
   "metadata": {},
   "source": [
    "# Preprocess"
   ]
  },
  {
   "cell_type": "markdown",
   "id": "3266b292",
   "metadata": {},
   "source": [
    "How many NaN values do we have?"
   ]
  },
  {
   "cell_type": "code",
   "execution_count": 57,
   "id": "62064ab6",
   "metadata": {},
   "outputs": [
    {
     "name": "stdout",
     "output_type": "stream",
     "text": [
      "Rows with at least one NaN: 1578479\n",
      "\n",
      "NaNs per column:\n",
      "ID                                     0\n",
      "Severity                               0\n",
      "Start_Lat                              0\n",
      "Start_Lng                              0\n",
      "StartTime                              0\n",
      "EndTime                                0\n",
      "Distance(mi)                           0\n",
      "DelayFromTypicalTraffic(mins)          0\n",
      "DelayFromFreeFlowSpeed(mins)           0\n",
      "Congestion_Speed                       0\n",
      "Description                            0\n",
      "Street                                 0\n",
      "City                                   0\n",
      "County                                 0\n",
      "State                                  0\n",
      "Country                                0\n",
      "ZipCode                                0\n",
      "LocalTimeZone                          0\n",
      "WeatherStation_AirportCode             0\n",
      "WeatherTimeStamp                    9061\n",
      "Temperature(F)                     14940\n",
      "WindChill(F)                      639579\n",
      "Humidity(%)                        15146\n",
      "Pressure(in)                       25944\n",
      "Visibility(mi)                     18022\n",
      "WindDir                            51522\n",
      "WindSpeed(mph)                    277016\n",
      "Precipitation(in)                 597512\n",
      "Weather_Event                    1552876\n",
      "Weather_Conditions                 17134\n",
      "dtype: int64\n"
     ]
    }
   ],
   "source": [
    "# 1. Total number of rows with at least one NaN\n",
    "num_rows_with_nan = df_filt.isna().any(axis=1).sum()\n",
    "print(f\"Rows with at least one NaN: {num_rows_with_nan}\")\n",
    "\n",
    "# 2. Number of NaNs in each column\n",
    "nan_per_column = df_filt.isna().sum()\n",
    "print(\"\\nNaNs per column:\")\n",
    "print(nan_per_column)"
   ]
  },
  {
   "cell_type": "markdown",
   "id": "e5aa2471",
   "metadata": {},
   "source": [
    "We choose to only use the weather attributes, WeatherTimeStamp, Temperature, Humidity, Pressure, Visibility, WindDir, **WindSpeed** (Reconsider this), Weather_Conditions"
   ]
  },
  {
   "cell_type": "markdown",
   "id": "c4c864ba",
   "metadata": {},
   "source": [
    "**Convert to proper datetime**"
   ]
  },
  {
   "cell_type": "markdown",
   "id": "4f3671e1",
   "metadata": {},
   "source": [
    "Remove the time offset"
   ]
  },
  {
   "cell_type": "code",
   "execution_count": null,
   "id": "884f04d4",
   "metadata": {},
   "outputs": [
    {
     "name": "stderr",
     "output_type": "stream",
     "text": [
      "C:\\Users\\U437186\\AppData\\Local\\Temp\\ipykernel_24700\\2115086838.py:3: SettingWithCopyWarning: \n",
      "A value is trying to be set on a copy of a slice from a DataFrame.\n",
      "Try using .loc[row_indexer,col_indexer] = value instead\n",
      "\n",
      "See the caveats in the documentation: https://pandas.pydata.org/pandas-docs/stable/user_guide/indexing.html#returning-a-view-versus-a-copy\n",
      "  df_filt[\"StartTime\"] = pd.to_datetime(df_filt[\"StartTime\"], format=\"%Y-%m-%dT%H:%M:%S\")\n"
     ]
    }
   ],
   "source": [
    "df_filt[\"StartTime\"] = df_filt[\"StartTime\"].str[:-10] #Remove the time offset from UTC\n",
    "\n",
    "df_filt[\"StartTime\"] = pd.to_datetime(df_filt[\"StartTime\"], format=\"%Y-%m-%dT%H:%M:%S\") # Convert to datetime finally"
   ]
  },
  {
   "cell_type": "code",
   "execution_count": 92,
   "id": "a87944e5",
   "metadata": {},
   "outputs": [],
   "source": [
    "columns_to_use1 = list(df_filt.columns[:21]) + [\"Humidity(%)\", \"Pressure(in)\", \"Visibility(mi)\",  \"WindDir\", \"WindSpeed(mph)\", \"Weather_Conditions\"] # With windspeed\n",
    "columns_to_use2 = list(df_filt.columns[:21]) + [\"Humidity(%)\", \"Pressure(in)\", \"Visibility(mi)\",  \"WindDir\", \"Weather_Conditions\"] # Without windspeed"
   ]
  },
  {
   "cell_type": "code",
   "execution_count": 94,
   "id": "9c981e0a",
   "metadata": {},
   "outputs": [],
   "source": [
    "df2 = df_filt[columns_to_use1]\n",
    "df_noWindspeed = df_filt[columns_to_use2]\n",
    "\n",
    "\n",
    "df3 = df2.dropna()\n",
    "df_noWindspeed_filt = df_noWindspeed.dropna()"
   ]
  },
  {
   "cell_type": "code",
   "execution_count": 97,
   "id": "23dfa2ca",
   "metadata": {},
   "outputs": [
    {
     "name": "stdout",
     "output_type": "stream",
     "text": [
      "Length before dropping windspeed 1584650\n",
      "Length after dropping with windspeed 1289973\n",
      "Length of dataframe without windspeed after dropping 1509892\n"
     ]
    }
   ],
   "source": [
    "print(\"Length before dropping windspeed\", len(df2))\n",
    "print(\"Length after dropping with windspeed\", len(df3))\n",
    "print(\"Length of dataframe without windspeed after dropping\", len(df_noWindspeed_filt))"
   ]
  },
  {
   "cell_type": "code",
   "execution_count": 98,
   "id": "24668451",
   "metadata": {},
   "outputs": [
    {
     "name": "stdout",
     "output_type": "stream",
     "text": [
      "Length of NY before dropping 660245\n",
      "Length of LA before dorpping 924405\n",
      "Length of NY after dropping 523531\n",
      "Length of LA after dorpping 766442\n"
     ]
    }
   ],
   "source": [
    "df_NY_prev = df2[df2[\"City\"] == \"New York\"]\n",
    "df_LA_prev = df2[df2[\"City\"] == \"Los Angeles\"]\n",
    "\n",
    "df_NY_after = df3[df3[\"City\"] == \"New York\"]\n",
    "df_LA_after = df3[df3[\"City\"] == \"Los Angeles\"]\n",
    "\n",
    "print(\"Length of NY before dropping\", len(df_NY_prev))\n",
    "print(\"Length of LA before dorpping\", len(df_LA_prev))\n",
    "\n",
    "print(\"Length of NY after dropping\", len(df_NY_after))\n",
    "print(\"Length of LA after dorpping\", len(df_LA_after))\n"
   ]
  },
  {
   "cell_type": "code",
   "execution_count": 99,
   "id": "4d65de9b",
   "metadata": {},
   "outputs": [],
   "source": [
    "# Save the dataframe that contains windspeed (ends up dropping around 300k observations)\n",
    "df3.to_csv(r\"C:\\Users\\U437186\\OneDrive - Danfoss\\Desktop\\Mona\\DTU\\Social data\\Assignment 2\\Project B\\Car Congestion with windspeed.csv\", index = False)\n",
    "df_noWindspeed_filt.to_csv(r\"C:\\Users\\U437186\\OneDrive - Danfoss\\Desktop\\Mona\\DTU\\Social data\\Assignment 2\\Project B\\Car Congestion without windspeed.csv\", index = False)"
   ]
  },
  {
   "cell_type": "markdown",
   "id": "70a19542",
   "metadata": {},
   "source": [
    "## **<div style=\"text-align: center;\">Part 1 - Temporal patterns</div>**"
   ]
  },
  {
   "cell_type": "markdown",
   "id": "e12ccff2",
   "metadata": {},
   "source": [
    "* **To start off easily, let's count the number of congestions per year:**\n",
    "    * **What is the year with most congestions?**\n",
    "    * **What is the year with the fewest congestions?.**"
   ]
  },
  {
   "cell_type": "code",
   "execution_count": null,
   "id": "8d4d6ca5",
   "metadata": {},
   "outputs": [],
   "source": [
    "# Group data by 'year' and 'state' and count occurrences\n",
    "grouped = df_filt.groupby(['hour', 'Category']).size().unstack(fill_value=0)"
   ]
  }
 ],
 "metadata": {
  "kernelspec": {
   "display_name": "base",
   "language": "python",
   "name": "python3"
  },
  "language_info": {
   "codemirror_mode": {
    "name": "ipython",
    "version": 3
   },
   "file_extension": ".py",
   "mimetype": "text/x-python",
   "name": "python",
   "nbconvert_exporter": "python",
   "pygments_lexer": "ipython3",
   "version": "3.12.3"
  }
 },
 "nbformat": 4,
 "nbformat_minor": 5
}
